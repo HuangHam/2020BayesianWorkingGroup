{
 "cells": [
  {
   "cell_type": "code",
   "execution_count": 40,
   "metadata": {},
   "outputs": [],
   "source": [
    "import numpy as np\n",
    "from scipy import stats, special\n",
    "import matplotlib.pyplot as plt"
   ]
  },
  {
   "cell_type": "markdown",
   "metadata": {},
   "source": [
    "When working with real world data, we often take the log of the probability. This is expressed as a negative value because $log(x) < 0$ if $x < 1$. \n",
    "\n",
    "Properties of logarithms:\n",
    "$log(ab) = log(a) + log(b)$\n",
    "\n",
    "$log(a/b) = log(a) - log(b)$\n",
    "\n",
    "$log(a + b) \\neq log(a) + log(b)$"
   ]
  },
  {
   "cell_type": "markdown",
   "metadata": {},
   "source": [
    "Here, we define a uniform prior over our hypotheses and take the log. $P(H_1) = P(H_2) = P(H_3) = \\frac{1}{3}$"
   ]
  },
  {
   "cell_type": "code",
   "execution_count": 21,
   "metadata": {},
   "outputs": [
    {
     "data": {
      "text/plain": [
       "array([-1.09861229, -1.09861229, -1.09861229])"
      ]
     },
     "execution_count": 21,
     "metadata": {},
     "output_type": "execute_result"
    }
   ],
   "source": [
    "log_prior = np.log(np.array([1/3, 1/3, 1/3]))\n",
    "log_prior"
   ]
  },
  {
   "cell_type": "markdown",
   "metadata": {},
   "source": [
    "From last tim: The likelihood is how well any hypothesis explains the data. Technically, this is what probability the hypothesis assigns to the data, or $P(D | H)$."
   ]
  },
  {
   "cell_type": "code",
   "execution_count": 13,
   "metadata": {},
   "outputs": [],
   "source": [
    "nH = 2 #Number of heads\n",
    "nT = 1 #Number of tails"
   ]
  },
  {
   "cell_type": "code",
   "execution_count": 20,
   "metadata": {},
   "outputs": [
    {
     "data": {
      "text/plain": [
       "array([-0.98082925, -0.86304622, -1.96165851])"
      ]
     },
     "execution_count": 20,
     "metadata": {},
     "output_type": "execute_result"
    }
   ],
   "source": [
    "log_likelihood = np.log([stats.binom.pmf(nH, nH + nT, 0.5), #H1\n",
    " stats.binom.pmf(nH, nH + nT, 0.75), #H2\n",
    " stats.binom.pmf(nH, nH + nT, 0.25)]) #H3\n",
    "log_likelihood"
   ]
  },
  {
   "cell_type": "markdown",
   "metadata": {},
   "source": [
    "The posterior is expressed as $\\displaystyle P(H|D) = \\frac{P(H) * P(D|H)}{\\sum_{h \\in H} P(h) P(D|h)}$\n",
    "\n",
    "Taking the log of both sides, $\\displaystyle \\log P(H|D) = \\log \\frac{P(H) * P(D|H)}{\\sum_{h \\in H} P(h) P(D|h)}$\n",
    "\n",
    "Using rules of logarithms, $\\displaystyle \\log P(H|D) = \\log(P(H)) + \\log(P(D|H) - \\log(\\sum_{h \\in H} P(h) P(D|h))$"
   ]
  },
  {
   "cell_type": "code",
   "execution_count": 22,
   "metadata": {},
   "outputs": [
    {
     "data": {
      "text/plain": [
       "array([-2.07944154, -1.96165851, -3.06027079])"
      ]
     },
     "execution_count": 22,
     "metadata": {},
     "output_type": "execute_result"
    }
   ],
   "source": [
    "log_posterior = log_prior + log_likelihood\n",
    "log_posterior"
   ]
  },
  {
   "cell_type": "markdown",
   "metadata": {},
   "source": [
    "The log posterior can be further simplified to $\\log(P(H)) + \\log(P(D|H) - LogSumExp(\\log(P(H)) + \\log(P(H|D)))$,\n",
    "\n",
    "where $LogSumExp(x) = \\log \\sum_{x_i \\in x} e^{x_i}$.\n",
    "\n",
    "It adds probabilities when represented in log space, and can be called as `special.logsumexp` in this notebook.\n"
   ]
  },
  {
   "cell_type": "markdown",
   "metadata": {},
   "source": [
    "## Section B"
   ]
  },
  {
   "cell_type": "markdown",
   "metadata": {},
   "source": [
    "Previously, we talked about having 3 hypotheses only. What would happen if we had more hypotheses? (i.e. a weight could be in the interval [0, 1])"
   ]
  },
  {
   "cell_type": "code",
   "execution_count": 29,
   "metadata": {},
   "outputs": [],
   "source": [
    "h = np.arange(0.01, 1, 0.01)"
   ]
  },
  {
   "cell_type": "markdown",
   "metadata": {},
   "source": [
    "Defining a uniform prior"
   ]
  },
  {
   "cell_type": "code",
   "execution_count": 37,
   "metadata": {},
   "outputs": [],
   "source": [
    "log_prior = np.array([-np.log(len(h))] * len(h)) # log(1/length(h)) = -log(h)"
   ]
  },
  {
   "cell_type": "markdown",
   "metadata": {},
   "source": [
    "Data- 2 heads and one tail"
   ]
  },
  {
   "cell_type": "code",
   "execution_count": 32,
   "metadata": {},
   "outputs": [],
   "source": [
    "nH = 2\n",
    "nT = 1"
   ]
  },
  {
   "cell_type": "markdown",
   "metadata": {},
   "source": [
    "Computing likelihood and posterior"
   ]
  },
  {
   "cell_type": "code",
   "execution_count": 38,
   "metadata": {},
   "outputs": [],
   "source": [
    "log_likelihood = np.array([stats.binom.logpmf(nH, nH + nT, p) for p in h])\n",
    "log_posterior = log_likelihood + log_prior"
   ]
  },
  {
   "cell_type": "markdown",
   "metadata": {},
   "source": [
    "Plotting: Note the change in the y axis from the first to the second plots."
   ]
  },
  {
   "cell_type": "code",
   "execution_count": 41,
   "metadata": {
    "scrolled": true
   },
   "outputs": [
    {
     "data": {
      "text/plain": [
       "[<matplotlib.lines.Line2D at 0x1a20acfcf8>]"
      ]
     },
     "execution_count": 41,
     "metadata": {},
     "output_type": "execute_result"
    },
    {
     "data": {
      "image/png": "[encoded data removed]",
      "text/plain": [
       "<Figure size 432x288 with 1 Axes>"
      ]
     },
     "metadata": {
      "needs_background": "light"
     },
     "output_type": "display_data"
    }
   ],
   "source": [
    "plt.plot(h, log_likelihood)"
   ]
  },
  {
   "cell_type": "code",
   "execution_count": 42,
   "metadata": {},
   "outputs": [
    {
     "data": {
      "text/plain": [
       "[<matplotlib.lines.Line2D at 0x1a206f95c0>]"
      ]
     },
     "execution_count": 42,
     "metadata": {},
     "output_type": "execute_result"
    },
    {
     "data": {
      "image/png": "[encoded data removed]",
      "text/plain": [
       "<Figure size 432x288 with 1 Axes>"
      ]
     },
     "metadata": {
      "needs_background": "light"
     },
     "output_type": "display_data"
    }
   ],
   "source": [
    "plt.plot(h, log_posterior)"
   ]
  },
  {
   "cell_type": "code",
   "execution_count": 43,
   "metadata": {},
   "outputs": [
    {
     "data": {
      "text/plain": [
       "[<matplotlib.lines.Line2D at 0x1a20879c18>]"
      ]
     },
     "execution_count": 43,
     "metadata": {},
     "output_type": "execute_result"
    },
    {
     "data": {
      "image/png": "[encoded data removed]",
      "text/plain": [
       "<Figure size 432x288 with 1 Axes>"
      ]
     },
     "metadata": {
      "needs_background": "light"
     },
     "output_type": "display_data"
    }
   ],
   "source": [
    "plt.plot(h, np.exp(log_posterior))"
   ]
  }
 ],
 "metadata": {
  "kernelspec": {
   "display_name": "Python [conda env:root] *",
   "language": "python",
   "name": "conda-root-py"
  },
  "language_info": {
   "codemirror_mode": {
    "name": "ipython",
    "version": 3
   },
   "file_extension": ".py",
   "mimetype": "text/x-python",
   "name": "python",
   "nbconvert_exporter": "python",
   "pygments_lexer": "ipython3",
   "version": "3.7.3"
  }
 },
 "nbformat": 4,
 "nbformat_minor": 2
}
