{
 "cells": [
  {
   "cell_type": "code",
   "execution_count": 26,
   "metadata": {},
   "outputs": [],
   "source": [
    "import numpy as np\n",
    "from scipy import stats\n",
    "import matplotlib.pyplot as plt"
   ]
  },
  {
   "cell_type": "markdown",
   "metadata": {},
   "source": [
    "Recap from before:\n",
    "\n",
    "Beliefs(prior, likelihood, posterior) are probability distributions. Let $H$ be the space of hypotheses. $P(H)$ is the _prior_, the beliefs we hold before we see the data. $P(D|H)$ is the _likelihood_, the distribution on the data, that tells us how well each hypothesis $H$ matches observed data $D$. $P(H|D)$ is the posterior, or beliefs we should have about the hypothesis after seeing the data. \n",
    "\n",
    "Bayes' Rule states $P(H|D) = \\frac{P(H) P(D|H)}{P(D)}$\n",
    "\n",
    "It's hard to compute $P(D)$ when you have an infinite hypothesis space, because $P(D) = \\sum_{\\forall h \\in H}P(D|H) P(H)$.\n",
    "\n",
    "In log form: $\\log P(H|D) = \\log P(H) + \\log P(D|H) - \\log P(D)$, where we alternatively call $P(D)$ some constant.\n",
    "\n",
    "_Samplers_ allow us to accomplish the following. Instead of explicitly writing out all the hypotheses in our space, we deal with a _collection of samples_ from the posterior distribution. Formally, this is $X_i \\text{~} P(H|D)$.\n",
    "This is important because when we're estimating a numerical value, we have to assume a continuous hypothesis space.\n",
    "\n",
    "The BIG MIRACLE- you can sample from the posterior distribution without knowing $P(D)!$\n"
   ]
  },
  {
   "cell_type": "markdown",
   "metadata": {},
   "source": [
    "## The Metropolis (Hastings) Algorithm"
   ]
  },
  {
   "cell_type": "markdown",
   "metadata": {},
   "source": [
    "We infer the mean of a distribution from only three samples! Our hypothesis space is the set of real numbers, and we assume a Gaussian prior: $P(H) \\text{~} Normal(\\mu = 0, \\sigma = 10)$. This means that our likelihood would be $P(D|H) \\text{~} Normal(\\mu = H, \\sigma = 10)$"
   ]
  },
  {
   "cell_type": "code",
   "execution_count": 16,
   "metadata": {},
   "outputs": [],
   "source": [
    "data = np.array([3.2, 5.6, 3.1])\n",
    "m = 0\n",
    "sd = 10"
   ]
  },
  {
   "cell_type": "code",
   "execution_count": 24,
   "metadata": {},
   "outputs": [],
   "source": [
    "def log_posterior(h, d):\n",
    "    log_prior = stats.norm.logpdf(h, m, sd)\n",
    "    log_likelihood = stats.norm.logpdf(d, m, sd) #this outputs an array of probabilities for each item in d\n",
    "    return log_prior + sum(log_likelihood)"
   ]
  },
  {
   "cell_type": "markdown",
   "metadata": {},
   "source": [
    "**The Algorithm**\n",
    "\n",
    "Let $h$ be a sample from the prior distribution. During each iteration, we are trying to find a \"more suitable\" value of $h$. We propose a new value, $h'$, and if $P(h'|D) > P(h|D)$, $h'$ is our new estimate. There's a chance that even if it's less likely than the posterior under the current $h$ value, it could lead to better results in the future, so we accept it with probability $\\displaystyle \\frac{P(h'|D)}{P(h|D)}$. Otherwise, we stay on $h$."
   ]
  },
  {
   "cell_type": "code",
   "execution_count": 42,
   "metadata": {},
   "outputs": [],
   "source": [
    "samples = []\n",
    "h = np.random.normal(m, sd)\n",
    "for i in np.arange(100000):\n",
    "    # Standing on h\n",
    "    # Propose some new h'\n",
    "    # If P(h'|D) > P(h|D), then always accept\n",
    "    # or accept anyways with probability P(h'|D)/P(h|D)\n",
    "    # otherwise, stay on h\n",
    "    h_prime = np.random.normal(h, 1)    \n",
    "    h_pos = log_posterior(h, data)\n",
    "    h_prime_pos = log_posterior(h_prime, data)\n",
    "    \n",
    "    if (h_prime_pos > h_pos) or (np.random.uniform(0, 1) < np.exp(h_prime_pos - h_prime)):\n",
    "        #if higher probability or a random number is below the acceptance ratio, update h to h'\n",
    "        h = h_prime\n",
    "    #else keep h\n",
    "    samples.append(h)"
   ]
  },
  {
   "cell_type": "code",
   "execution_count": 46,
   "metadata": {},
   "outputs": [
    {
     "data": {
      "image/png": "[encoded data removed]",
      "text/plain": [
       "<Figure size 432x288 with 1 Axes>"
      ]
     },
     "metadata": {
      "needs_background": "light"
     },
     "output_type": "display_data"
    }
   ],
   "source": [
    "histogram = plt.hist(samples, bins = np.arange(-20, 20, 0.1))"
   ]
  },
  {
   "cell_type": "markdown",
   "metadata": {},
   "source": [
    "We estimate the mean at 0 based on the simulation."
   ]
  },
  {
   "cell_type": "markdown",
   "metadata": {},
   "source": [
    "## Important Ideas\n",
    "### Detailed Balance\n",
    "Let there be two regions, A and B. M(A->B) is the probability the algorithm moves from A to B. IN(A) is the probability that the algorithm is in region A. We achieve detailed balance when IN(A) M(A->B) = IN(B) M(B->A). \n",
    "$IN(A) \\propto P(A|D)$\n",
    "\n",
    "***Burn-In*** tossing the first few (1000-odd) samples\n",
    "\n",
    "Use multiple runs (chains) of the Metropolis algorithm and take diagnostics [clarify?]"
   ]
  },
  {
   "cell_type": "markdown",
   "metadata": {},
   "source": [
    "### Exercise\n",
    "H - (-inf,+inf) for a mean AND some (0,+inf) for a SD\n",
    "\n",
    "samples - won't be an array, it'll be two columns (one for mean, one for SD)\n",
    "\n",
    "when you propose, you can flip a coin to decide whether to propose to the mean or the SD\n",
    "\n",
    "assume some prior on SD (e.g. ~ Exponential(1))\n",
    "\n",
    "never accept negative proposals to SD\n"
   ]
  }
 ],
 "metadata": {
  "kernelspec": {
   "display_name": "Python [conda env:root] *",
   "language": "python",
   "name": "conda-root-py"
  },
  "language_info": {
   "codemirror_mode": {
    "name": "ipython",
    "version": 3
   },
   "file_extension": ".py",
   "mimetype": "text/x-python",
   "name": "python",
   "nbconvert_exporter": "python",
   "pygments_lexer": "ipython3",
   "version": "3.7.3"
  }
 },
 "nbformat": 4,
 "nbformat_minor": 2
}
